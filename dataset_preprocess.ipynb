{
  "nbformat": 4,
  "nbformat_minor": 0,
  "metadata": {
    "colab": {
      "name": "dataset_preprocess.ipynb",
      "provenance": [],
      "collapsed_sections": [],
      "include_colab_link": true
    },
    "kernelspec": {
      "name": "python3",
      "display_name": "Python 3"
    }
  },
  "cells": [
    {
      "cell_type": "markdown",
      "metadata": {
        "id": "view-in-github",
        "colab_type": "text"
      },
      "source": [
        "<a href=\"https://colab.research.google.com/github/srijansingh53/hatErase/blob/master/dataset_preprocess.ipynb\" target=\"_parent\"><img src=\"https://colab.research.google.com/assets/colab-badge.svg\" alt=\"Open In Colab\"/></a>"
      ]
    },
    {
      "cell_type": "code",
      "metadata": {
        "id": "oC6BfqZd845C",
        "colab_type": "code",
        "colab": {}
      },
      "source": [
        "from google.colab import drive\n",
        "drive.mount('/content/drive')"
      ],
      "execution_count": 0,
      "outputs": []
    },
    {
      "cell_type": "code",
      "metadata": {
        "id": "X8So7O9E-aWV",
        "colab_type": "code",
        "outputId": "6319e0e1-3562-478b-b3c0-bf326f624495",
        "colab": {
          "base_uri": "https://localhost:8080/",
          "height": 34
        }
      },
      "source": [
        "import os\n",
        "os.chdir('/content/drive/My Drive/ML Project/ML-PR')\n",
        "!ls"
      ],
      "execution_count": 2,
      "outputs": [
        {
          "output_type": "stream",
          "text": [
            "dataset  Dataset_Exploration.ipynb  dataset_preprocess.ipynb  outputs\n"
          ],
          "name": "stdout"
        }
      ]
    },
    {
      "cell_type": "code",
      "metadata": {
        "id": "PSFRo8ez-pj8",
        "colab_type": "code",
        "colab": {}
      },
      "source": [
        "import pandas as pd\n",
        "import numpy as np\n",
        "import seaborn as sns\n",
        "import re \n",
        "import string\n",
        "import matplotlib.pyplot as plt\n",
        "%matplotlib inline\n",
        "import pandas_profiling as pp\n",
        "import nltk\n",
        "from nltk.stem import WordNetLemmatizer"
      ],
      "execution_count": 0,
      "outputs": []
    },
    {
      "cell_type": "code",
      "metadata": {
        "id": "lbmbqrYNlJI9",
        "colab_type": "code",
        "colab": {
          "base_uri": "https://localhost:8080/",
          "height": 52
        },
        "outputId": "ef1b0821-389b-4197-bb42-91ed49c6e3da"
      },
      "source": [
        "nltk.download('stopwords')\n",
        "from nltk.corpus import stopwords\n",
        "stopwords = nltk.corpus.stopwords.words('english')"
      ],
      "execution_count": 16,
      "outputs": [
        {
          "output_type": "stream",
          "text": [
            "[nltk_data] Downloading package stopwords to /root/nltk_data...\n",
            "[nltk_data]   Package stopwords is already up-to-date!\n"
          ],
          "name": "stdout"
        }
      ]
    },
    {
      "cell_type": "code",
      "metadata": {
        "id": "9f1fLEJ3l95D",
        "colab_type": "code",
        "colab": {
          "base_uri": "https://localhost:8080/",
          "height": 70
        },
        "outputId": "bfe6cd8e-0abd-4807-d786-ed00e2c339f9"
      },
      "source": [
        "nltk.download('wordnet')"
      ],
      "execution_count": 23,
      "outputs": [
        {
          "output_type": "stream",
          "text": [
            "[nltk_data] Downloading package wordnet to /root/nltk_data...\n",
            "[nltk_data]   Unzipping corpora/wordnet.zip.\n"
          ],
          "name": "stdout"
        },
        {
          "output_type": "execute_result",
          "data": {
            "text/plain": [
              "True"
            ]
          },
          "metadata": {
            "tags": []
          },
          "execution_count": 23
        }
      ]
    },
    {
      "cell_type": "code",
      "metadata": {
        "id": "S9MVdxyb_ooQ",
        "colab_type": "code",
        "outputId": "15d4b0af-a40f-4025-ecb1-cb6049d93189",
        "colab": {
          "base_uri": "https://localhost:8080/",
          "height": 248
        }
      },
      "source": [
        "df = pd.read_csv('outputs/final_dataset.csv', encoding='latin-1')\n",
        "print(df.count())\n",
        "df.head()"
      ],
      "execution_count": 31,
      "outputs": [
        {
          "output_type": "stream",
          "text": [
            "text     196388\n",
            "label    196388\n",
            "dtype: int64\n"
          ],
          "name": "stdout"
        },
        {
          "output_type": "execute_result",
          "data": {
            "text/html": [
              "<div>\n",
              "<style scoped>\n",
              "    .dataframe tbody tr th:only-of-type {\n",
              "        vertical-align: middle;\n",
              "    }\n",
              "\n",
              "    .dataframe tbody tr th {\n",
              "        vertical-align: top;\n",
              "    }\n",
              "\n",
              "    .dataframe thead th {\n",
              "        text-align: right;\n",
              "    }\n",
              "</style>\n",
              "<table border=\"1\" class=\"dataframe\">\n",
              "  <thead>\n",
              "    <tr style=\"text-align: right;\">\n",
              "      <th></th>\n",
              "      <th>text</th>\n",
              "      <th>label</th>\n",
              "    </tr>\n",
              "  </thead>\n",
              "  <tbody>\n",
              "    <tr>\n",
              "      <th>0</th>\n",
              "      <td>\"like this if you are a tribe fan\"</td>\n",
              "      <td>0</td>\n",
              "    </tr>\n",
              "    <tr>\n",
              "      <th>1</th>\n",
              "      <td>\"you're idiot.......................\"</td>\n",
              "      <td>1</td>\n",
              "    </tr>\n",
              "    <tr>\n",
              "      <th>2</th>\n",
              "      <td>\"I am a woman Babs, and the only \"war on women...</td>\n",
              "      <td>1</td>\n",
              "    </tr>\n",
              "    <tr>\n",
              "      <th>3</th>\n",
              "      <td>\"WOW &amp; YOU BENEFITTED SO MANY WINS THIS YEAR F...</td>\n",
              "      <td>1</td>\n",
              "    </tr>\n",
              "    <tr>\n",
              "      <th>4</th>\n",
              "      <td>\"haha green me red you now loser whos winning ...</td>\n",
              "      <td>1</td>\n",
              "    </tr>\n",
              "  </tbody>\n",
              "</table>\n",
              "</div>"
            ],
            "text/plain": [
              "                                                text  label\n",
              "0                 \"like this if you are a tribe fan\"      0\n",
              "1              \"you're idiot.......................\"      1\n",
              "2  \"I am a woman Babs, and the only \"war on women...      1\n",
              "3  \"WOW & YOU BENEFITTED SO MANY WINS THIS YEAR F...      1\n",
              "4  \"haha green me red you now loser whos winning ...      1"
            ]
          },
          "metadata": {
            "tags": []
          },
          "execution_count": 31
        }
      ]
    },
    {
      "cell_type": "code",
      "metadata": {
        "id": "dLowORbpBnCJ",
        "colab_type": "code",
        "outputId": "4a011284-ca50-42a6-a774-75cd05bf5d12",
        "colab": {
          "base_uri": "https://localhost:8080/",
          "height": 72
        }
      },
      "source": [
        "report = pp.ProfileReport(df)\n",
        "report.to_file('outputs/profile_report.html')"
      ],
      "execution_count": 18,
      "outputs": [
        {
          "output_type": "stream",
          "text": [
            "/usr/local/lib/python3.6/dist-packages/pandas_profiling/describe.py:392: FutureWarning: The join_axes-keyword is deprecated. Use .reindex or .reindex_like on the result to achieve the same functionality.\n",
            "  variable_stats = pd.concat(ldesc, join_axes=pd.Index([names]), axis=1)\n"
          ],
          "name": "stderr"
        }
      ]
    },
    {
      "cell_type": "code",
      "metadata": {
        "id": "5PSkQLSjAZyn",
        "colab_type": "code",
        "outputId": "d648981d-8d58-4e79-9cbf-01ada19db514",
        "colab": {
          "base_uri": "https://localhost:8080/",
          "height": 166
        }
      },
      "source": [
        "df.groupby('label').describe()"
      ],
      "execution_count": 19,
      "outputs": [
        {
          "output_type": "execute_result",
          "data": {
            "text/html": [
              "<div>\n",
              "<style scoped>\n",
              "    .dataframe tbody tr th:only-of-type {\n",
              "        vertical-align: middle;\n",
              "    }\n",
              "\n",
              "    .dataframe tbody tr th {\n",
              "        vertical-align: top;\n",
              "    }\n",
              "\n",
              "    .dataframe thead tr th {\n",
              "        text-align: left;\n",
              "    }\n",
              "\n",
              "    .dataframe thead tr:last-of-type th {\n",
              "        text-align: right;\n",
              "    }\n",
              "</style>\n",
              "<table border=\"1\" class=\"dataframe\">\n",
              "  <thead>\n",
              "    <tr>\n",
              "      <th></th>\n",
              "      <th colspan=\"4\" halign=\"left\">text</th>\n",
              "    </tr>\n",
              "    <tr>\n",
              "      <th></th>\n",
              "      <th>count</th>\n",
              "      <th>unique</th>\n",
              "      <th>top</th>\n",
              "      <th>freq</th>\n",
              "    </tr>\n",
              "    <tr>\n",
              "      <th>label</th>\n",
              "      <th></th>\n",
              "      <th></th>\n",
              "      <th></th>\n",
              "      <th></th>\n",
              "    </tr>\n",
              "  </thead>\n",
              "  <tbody>\n",
              "    <tr>\n",
              "      <th>0</th>\n",
              "      <td>155156</td>\n",
              "      <td>155124</td>\n",
              "      <td>By wearing the #BalidaanBadge over his gloves ...</td>\n",
              "      <td>5</td>\n",
              "    </tr>\n",
              "    <tr>\n",
              "      <th>1</th>\n",
              "      <td>41232</td>\n",
              "      <td>41212</td>\n",
              "      <td>\"you're an idiot\"</td>\n",
              "      <td>4</td>\n",
              "    </tr>\n",
              "  </tbody>\n",
              "</table>\n",
              "</div>"
            ],
            "text/plain": [
              "         text                                                                \n",
              "        count  unique                                                top freq\n",
              "label                                                                        \n",
              "0      155156  155124  By wearing the #BalidaanBadge over his gloves ...    5\n",
              "1       41232   41212                                  \"you're an idiot\"    4"
            ]
          },
          "metadata": {
            "tags": []
          },
          "execution_count": 19
        }
      ]
    },
    {
      "cell_type": "markdown",
      "metadata": {
        "id": "8nzdFn6rkdrt",
        "colab_type": "text"
      },
      "source": [
        "### Processing of text"
      ]
    },
    {
      "cell_type": "code",
      "metadata": {
        "id": "W0Iao2_rBKcW",
        "colab_type": "code",
        "colab": {}
      },
      "source": [
        "df['hashtags'] = df['text'].apply(lambda x:re.findall('#\\w*',x))\n",
        "df['users'] = df['text'].apply(lambda x:re.findall('@\\w*',x))\n",
        "df['links'] = df['text'].apply(lambda x:re.findall('https?://(?:[-\\w.]|(?:%[\\da-fA-F]{2}))+',x, flags=re.MULTILINE))\n",
        "df['links'] = df['links'].apply(lambda x:list(set(x)))"
      ],
      "execution_count": 0,
      "outputs": []
    },
    {
      "cell_type": "markdown",
      "metadata": {
        "id": "iPxLE1m-yuV3",
        "colab_type": "text"
      },
      "source": [
        "> For classification based on word embeddings as features, stopwords are not required"
      ]
    },
    {
      "cell_type": "code",
      "metadata": {
        "id": "cLNuN29tkmFj",
        "colab_type": "code",
        "colab": {}
      },
      "source": [
        "def preprocess(text):\n",
        "    # Removing links- http\n",
        "    text =  re.sub(r'(https|http)?:\\/\\/(\\w|\\.|\\/|\\?|\\=|\\&|\\%)*\\b', ' ', text, flags=re.MULTILINE)\n",
        "    # Removing mentions and hashtags\n",
        "    text = re.sub(r\"#(\\w+)\", ' ', text, flags=re.MULTILINE)\n",
        "    text = re.sub(r\"@(\\w+)\", ' ', text, flags=re.MULTILINE)\n",
        "    # Removing punctuations\n",
        "    text = re.sub(r'[^\\w\\d\\s]', ' ', text)\n",
        "    # convert to lower case\n",
        "    text = re.sub(r'^\\s+|\\s+?$', ' ', text.lower())\n",
        "    # Removing digits\n",
        "    text = re.sub(r'\\d', ' ', text)\n",
        "    # Removing other symbols\n",
        "    text = re.sub('[ãâªð³ÂÃ±¤¡¥¶¦§_®¯¹¾²µ½¼º]+', ' ', text)\n",
        "    # collapse all white spaces\n",
        "    text = re.sub(r'\\s+', ' ', text)\n",
        "    # remove stop words and perform stemming\n",
        "    stop_words = nltk.corpus.stopwords.words('english')\n",
        "    # \n",
        "    lemmatizer = WordNetLemmatizer() \n",
        "    return ' '.join(\n",
        "        lemmatizer.lemmatize(term) \n",
        "        for term in text.split()\n",
        "        if term not in set(stop_words)\n",
        "    )"
      ],
      "execution_count": 0,
      "outputs": []
    },
    {
      "cell_type": "code",
      "metadata": {
        "id": "BiGIdIjPkpWf",
        "colab_type": "code",
        "colab": {}
      },
      "source": [
        "df['processed_text'] = df.text.apply(lambda row : preprocess(row))\n",
        "\n",
        "pd.DataFrame(df, columns=['text','label','hashtags', 'users', 'links', 'processed_text']).to_csv('outputs/processed_wos.csv', index = False)"
      ],
      "execution_count": 0,
      "outputs": []
    },
    {
      "cell_type": "code",
      "metadata": {
        "id": "CrpEhoH7k7K_",
        "colab_type": "code",
        "colab": {
          "base_uri": "https://localhost:8080/",
          "height": 72
        },
        "outputId": "f473fca7-cc34-4f33-ebcb-6d8eb52784ad"
      },
      "source": [
        "report2 = pp.ProfileReport(df)\n",
        "report2.to_file('outputs/processed_wos_report.html')"
      ],
      "execution_count": 37,
      "outputs": [
        {
          "output_type": "stream",
          "text": [
            "/usr/local/lib/python3.6/dist-packages/pandas_profiling/describe.py:392: FutureWarning: The join_axes-keyword is deprecated. Use .reindex or .reindex_like on the result to achieve the same functionality.\n",
            "  variable_stats = pd.concat(ldesc, join_axes=pd.Index([names]), axis=1)\n"
          ],
          "name": "stderr"
        }
      ]
    },
    {
      "cell_type": "markdown",
      "metadata": {
        "id": "ZAqzzWGkzLXY",
        "colab_type": "text"
      },
      "source": [
        "> For classification using lstms we need not remove stopwords as model would be based on seq to seq model. "
      ]
    },
    {
      "cell_type": "code",
      "metadata": {
        "id": "pGlyOZn0muF-",
        "colab_type": "code",
        "colab": {}
      },
      "source": [
        "def preprocess_ws(text):\n",
        "    # Removing links- http\n",
        "    text =  re.sub(r'(https|http)?:\\/\\/(\\w|\\.|\\/|\\?|\\=|\\&|\\%)*\\b', ' ', text, flags=re.MULTILINE)\n",
        "    # Removing mentions and hashtags\n",
        "    text = re.sub(r\"#(\\w+)\", ' ', text, flags=re.MULTILINE)\n",
        "    text = re.sub(r\"@(\\w+)\", ' ', text, flags=re.MULTILINE)\n",
        "    # Removing punctuations\n",
        "    text = re.sub(r'[^\\w\\d\\s]', ' ', text)\n",
        "    # convert to lower case\n",
        "    text = re.sub(r'^\\s+|\\s+?$', ' ', text.lower())\n",
        "    # Removing digits\n",
        "    text = re.sub(r'\\d', ' ', text)\n",
        "    # Removing other symbols\n",
        "    text = re.sub('[ãâªð³ÂÃ±¤¡¥¶¦§_®¯¹¾²µ½¼º]+', ' ', text)\n",
        "    # collapse all white spaces\n",
        "    text = re.sub(r'\\s+', ' ', text)\n",
        "\n",
        "    # lemmatizer = WordNetLemmatizer() \n",
        "    return ' '.join(term\n",
        "        # lemmatizer.lemmatize(term) \n",
        "        for term in text.split()\n",
        "        # if term not in set(stop_words)\n",
        "    )"
      ],
      "execution_count": 0,
      "outputs": []
    },
    {
      "cell_type": "code",
      "metadata": {
        "id": "c8WrhJpqyYZ8",
        "colab_type": "code",
        "colab": {}
      },
      "source": [
        "df['processed_text'] = df.text.apply(lambda row : preprocess_ws(row))\n",
        "\n",
        "pd.DataFrame(df, columns=['text','label','hashtags', 'users', 'links', 'processed_text']).to_csv('outputs/processed_ws.csv', index = False)"
      ],
      "execution_count": 0,
      "outputs": []
    },
    {
      "cell_type": "code",
      "metadata": {
        "id": "IQi0kQ9gypvI",
        "colab_type": "code",
        "colab": {
          "base_uri": "https://localhost:8080/",
          "height": 72
        },
        "outputId": "63aa0663-abd6-463e-c627-c2e989aecb93"
      },
      "source": [
        "report2 = pp.ProfileReport(df)\n",
        "report2.to_file('outputs/processed_ws_report.html')"
      ],
      "execution_count": 45,
      "outputs": [
        {
          "output_type": "stream",
          "text": [
            "/usr/local/lib/python3.6/dist-packages/pandas_profiling/describe.py:392: FutureWarning: The join_axes-keyword is deprecated. Use .reindex or .reindex_like on the result to achieve the same functionality.\n",
            "  variable_stats = pd.concat(ldesc, join_axes=pd.Index([names]), axis=1)\n"
          ],
          "name": "stderr"
        }
      ]
    },
    {
      "cell_type": "code",
      "metadata": {
        "id": "d8X6GZrk1oiT",
        "colab_type": "code",
        "colab": {}
      },
      "source": [
        ""
      ],
      "execution_count": 0,
      "outputs": []
    }
  ]
}